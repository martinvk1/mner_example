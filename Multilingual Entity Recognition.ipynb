{
 "cells": [
  {
   "cell_type": "markdown",
   "id": "85c6d8e7",
   "metadata": {},
   "source": [
    "### Multilingual Entity Recognition"
   ]
  },
  {
   "cell_type": "code",
   "execution_count": 35,
   "id": "ceae4bd7",
   "metadata": {},
   "outputs": [],
   "source": [
    "# !pip install spacy\n",
    "# !python -m spacy download en_core_web_sm\n",
    "# !python -m spacy download de_core_news_sm\n",
    "# !python -m spacy download fr_core_news_sm\n",
    "\n",
    "import spacy\n",
    "\n",
    "# Shortcuts are no longer supported in spacy, so we need to specify the mapping from language to model. \n",
    "# This is also needed since model names are not consistent - some languages have \"web\", some \"news\" etc.\n",
    "# Exemplified with 3 languages here, but list would need to be expanded.\n",
    "\n",
    "models = {\n",
    "    'en': 'en_core_web_sm',\n",
    "    'de': 'de_core_news_sm',\n",
    "    'fr': 'fr_core_news_sm'\n",
    "}\n",
    "\n",
    "def get_ents(text, lang):\n",
    "    \n",
    "    nlp = spacy.load(models[lang])\n",
    "    \n",
    "    doc = nlp(text)\n",
    "    \n",
    "    ent_list = []\n",
    "    \n",
    "    for ent in doc.ents:\n",
    "        \n",
    "        item = {}\n",
    "        \n",
    "        item['text'] = ent.text\n",
    "        item['type'] = ent.label_\n",
    "        item['start_pos'] = ent.start\n",
    "        item['end_pos'] = ent.end\n",
    "        \n",
    "        ent_list.append(item)\n",
    "    \n",
    "    return ent_list"
   ]
  },
  {
   "cell_type": "markdown",
   "id": "b41f0635",
   "metadata": {},
   "source": [
    "### Example Usage"
   ]
  },
  {
   "cell_type": "code",
   "execution_count": 36,
   "id": "46cc0022",
   "metadata": {},
   "outputs": [
    {
     "data": {
      "text/plain": [
       "[{'text': 'La France', 'type': 'LOC', 'start_pos': 0, 'end_pos': 2},\n",
       " {'text': 'Écouter', 'type': 'LOC', 'start_pos': 3, 'end_pos': 4},\n",
       " {'text': 'République française',\n",
       "  'type': 'LOC',\n",
       "  'start_pos': 12,\n",
       "  'end_pos': 14},\n",
       " {'text': 'Écouter', 'type': 'LOC', 'start_pos': 15, 'end_pos': 16},\n",
       " {'text': 'État', 'type': 'LOC', 'start_pos': 20, 'end_pos': 21},\n",
       " {'text': \"Europe de l'Ouest\", 'type': 'LOC', 'start_pos': 30, 'end_pos': 34},\n",
       " {'text': 'Indien', 'type': 'LOC', 'start_pos': 44, 'end_pos': 45},\n",
       " {'text': 'Atlantique', 'type': 'LOC', 'start_pos': 46, 'end_pos': 47},\n",
       " {'text': 'Pacifique', 'type': 'LOC', 'start_pos': 48, 'end_pos': 49},\n",
       " {'text': 'Antarctique6', 'type': 'MISC', 'start_pos': 53, 'end_pos': 54},\n",
       " {'text': 'Amérique du Sud', 'type': 'LOC', 'start_pos': 56, 'end_pos': 59}]"
      ]
     },
     "execution_count": 36,
     "metadata": {},
     "output_type": "execute_result"
    }
   ],
   "source": [
    "text = '''La France (Écouter), en forme longue depuis 1875 la République française (Écouter), est un État souverain transcontinental dont le territoire métropolitain s'étend en Europe de l'Ouest et dont le territoire ultramarin s'étend dans les océans Indien, Atlantique, Pacifique, ainsi qu'en Antarctique6 et en Amérique du Sud. '''\n",
    "\n",
    "get_ents(text, 'fr')"
   ]
  }
 ],
 "metadata": {
  "kernelspec": {
   "display_name": "Python 3 (ipykernel)",
   "language": "python",
   "name": "python3"
  },
  "language_info": {
   "codemirror_mode": {
    "name": "ipython",
    "version": 3
   },
   "file_extension": ".py",
   "mimetype": "text/x-python",
   "name": "python",
   "nbconvert_exporter": "python",
   "pygments_lexer": "ipython3",
   "version": "3.10.8"
  }
 },
 "nbformat": 4,
 "nbformat_minor": 5
}
